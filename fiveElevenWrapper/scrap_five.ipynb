{
 "cells": [
  {
   "cell_type": "code",
   "execution_count": null,
   "metadata": {},
   "outputs": [],
   "source": [
    "import pandas as pd\n",
    "\n",
    "from selenium import webdriver\n",
    "from selenium.webdriver.common.by import By\n",
    "import re as re\n",
    "import time"
   ]
  },
  {
   "cell_type": "code",
   "execution_count": null,
   "metadata": {},
   "outputs": [],
   "source": [
    "username = \"\"\n",
    "password = \"\""
   ]
  },
  {
   "cell_type": "code",
   "execution_count": null,
   "metadata": {},
   "outputs": [],
   "source": [
    "browser = webdriver.Chrome()"
   ]
  },
  {
   "cell_type": "code",
   "execution_count": null,
   "metadata": {},
   "outputs": [],
   "source": [
    "def connect_five(browser, username, password):\n",
    "\n",
    "    url = 'https://www.lefive.fr/reservations/slots'\n",
    "    browser.get(url)\n",
    "\n",
    "    time.sleep(1)\n",
    "    try:\n",
    "        browser.find_element(\"id\", \"email\").send_keys(username)\n",
    "        browser.find_element(\"id\", \"password\").send_keys(password)\n",
    "        browser.find_element(By.XPATH,'//*[@id=\"__layout\"]/div/div[1]/div[5]/div[2]/div/form/div[3]/button').click()\n",
    "        return 'Connected'\n",
    "    except:\n",
    "        pass\n",
    "        return 'Failed'\n"
   ]
  },
  {
   "cell_type": "code",
   "execution_count": null,
   "metadata": {},
   "outputs": [],
   "source": [
    "days_to_check = ['mardi', 'mercredi', 'jeudi']\n",
    "hours_to_check = ['19h30', '20h00', '20h30']\n",
    "upcoming_days = 20"
   ]
  },
  {
   "cell_type": "code",
   "execution_count": null,
   "metadata": {},
   "outputs": [],
   "source": [
    "def get_slots_results(browser, upcoming_days):\n",
    "\n",
    "    results = []\n",
    "\n",
    "    for i in range(1, upcoming_days):\n",
    "         \n",
    "        print(f\"day {i}\")\n",
    "\n",
    "        try :\n",
    "            # select date\n",
    "            time.sleep(5)\n",
    "            browser.find_element(By.XPATH,f'/html/body/div[1]/div/div/div[1]/div[4]/div[1]/div[1]/div[2]/div/div/div/div[{i}]').click()\n",
    "\n",
    "            # select night slots\n",
    "            time.sleep(5)\n",
    "            browser.find_element(By.XPATH,'//*[@id=\"__layout\"]/div/div[1]/div[5]/div[1]/div[2]/div[4]').click()\n",
    "\n",
    "            # get slots list\n",
    "            time.sleep(5)\n",
    "            elements = browser.find_elements(By.XPATH, '//*[@id=\"__layout\"]/div/div[1]/div[5]/div[2]/div/div')\n",
    "            # extract useful info\n",
    "            for e in elements:\n",
    "                for line in e.text.split('\\n'):\n",
    "                    if line.split(' ')[0] in ['lundi', 'mardi', 'mercredi', 'jeudi', 'vendredi', 'samedi', 'dimanche']:\n",
    "                        print(line)\n",
    "                        results.append(line.split(' '))\n",
    "        except:\n",
    "            pass\n",
    "        \n",
    "    return results"
   ]
  },
  {
   "cell_type": "code",
   "execution_count": null,
   "metadata": {},
   "outputs": [],
   "source": [
    "def format_slots_results(results, hours_to_check, days_to_check):\n",
    "\n",
    "    # format results\n",
    "    df = pd.DataFrame(results)\n",
    "    format_df = df[[0, 1, 2, 4, 6, 7]].rename(columns={0: 'day',  1: 'day_num', 2: 'month', 4: 'time', 6: 'city', 7: 'arr'})\n",
    "    selected_format_df  = format_df.loc[(format_df['time'].isin(hours_to_check)) & (format_df['day'].isin(days_to_check))]\n",
    "\n",
    "    return selected_format_df"
   ]
  },
  {
   "cell_type": "code",
   "execution_count": null,
   "metadata": {},
   "outputs": [],
   "source": [
    "connect_five(browser, username, password)"
   ]
  },
  {
   "cell_type": "code",
   "execution_count": null,
   "metadata": {},
   "outputs": [],
   "source": [
    "slots_list = get_slots_results(browser, upcoming_days)"
   ]
  },
  {
   "cell_type": "code",
   "execution_count": null,
   "metadata": {},
   "outputs": [],
   "source": [
    "selected_format_df = format_slots_results(slots_list, hours_to_check, days_to_check)"
   ]
  },
  {
   "cell_type": "code",
   "execution_count": null,
   "metadata": {},
   "outputs": [],
   "source": [
    "slots_list"
   ]
  },
  {
   "cell_type": "code",
   "execution_count": null,
   "metadata": {},
   "outputs": [],
   "source": [
    "selected_format_df"
   ]
  },
  {
   "cell_type": "code",
   "execution_count": null,
   "metadata": {},
   "outputs": [],
   "source": [
    "browser.quit()"
   ]
  }
 ],
 "metadata": {
  "kernelspec": {
   "display_name": "Python 3",
   "language": "python",
   "name": "python3"
  },
  "language_info": {
   "codemirror_mode": {
    "name": "ipython",
    "version": 3
   },
   "file_extension": ".py",
   "mimetype": "text/x-python",
   "name": "python",
   "nbconvert_exporter": "python",
   "pygments_lexer": "ipython3",
   "version": "3.9.13"
  },
  "orig_nbformat": 4
 },
 "nbformat": 4,
 "nbformat_minor": 2
}
